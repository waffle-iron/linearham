{
 "cells": [
  {
   "cell_type": "code",
   "execution_count": 1,
   "metadata": {
    "collapsed": false
   },
   "outputs": [],
   "source": [
    "import numpy as np\n",
    "import yaml\n",
    "\n",
    "with open(\"../data/D_germline_ex.yaml\", 'r') as stream:\n",
    "    try:\n",
    "        y = yaml.load(stream)\n",
    "    except yaml.YAMLError as exc:\n",
    "        print(exc)\n",
    "\n",
    "# Build a dictionary of the YAML keyed by state name.\n",
    "state_d = {}\n",
    "for s in y['states']:\n",
    "    state_d[s['name']] = s\n",
    "\n",
    "bases = list('ACGT')\n",
    "insert_names = ['insert_left_'+x for x in bases]\n",
    "dummy_names = ['dummy_D_'+str(i) for i in range(5)]"
   ]
  },
  {
   "cell_type": "code",
   "execution_count": 2,
   "metadata": {
    "collapsed": true
   },
   "outputs": [],
   "source": [
    "def stack_rows(array_list):\n",
    "    return np.concatenate([np.array([a]) for a in array_list])\n",
    "\n",
    "def extract_transitions(d, names):\n",
    "    def get_with_default(n):\n",
    "        if n in d:\n",
    "            return d[n]\n",
    "        else:\n",
    "            return 0.\n",
    "    v = np.array([get_with_default(n) for n in names])\n",
    "    return v"
   ]
  },
  {
   "cell_type": "code",
   "execution_count": 3,
   "metadata": {
    "collapsed": false
   },
   "outputs": [
    {
     "name": "stdout",
     "output_type": "stream",
     "text": [
      "[ 0.1   0.2   0.1   0.05]\n",
      "[[ 0.075  0.175  0.05   0.025]\n",
      " [ 0.075  0.175  0.05   0.025]\n",
      " [ 0.075  0.175  0.05   0.025]\n",
      " [ 0.075  0.175  0.05   0.025]]\n",
      "[[ 0.7  0.1  0.1  0.1]\n",
      " [ 0.1  0.7  0.1  0.1]\n",
      " [ 0.1  0.1  0.7  0.1]\n",
      " [ 0.1  0.1  0.1  0.7]]\n",
      "[[ 0.45   0.125  0.1    0.     0.   ]\n",
      " [ 0.45   0.125  0.1    0.     0.   ]\n",
      " [ 0.45   0.125  0.1    0.     0.   ]\n",
      " [ 0.45   0.125  0.1    0.     0.   ]]\n",
      "[3, 0, 1, 1]\n"
     ]
    }
   ],
   "source": [
    "# NTI transition and emission matrices.\n",
    "\n",
    "in_landing = extract_transitions(state_d['init']['transitions'], insert_names)\n",
    "\n",
    "T = stack_rows([\n",
    "        extract_transitions(state_d[n]['transitions'], insert_names) \n",
    "        for n in insert_names])\n",
    "\n",
    "E = stack_rows([\n",
    "        np.array([state_d[n]['emissions']['probs'][b] for b in bases]) \n",
    "        for n in insert_names])\n",
    "\n",
    "out_landing = stack_rows([\n",
    "        extract_transitions(state_d[i_n]['transitions'], dummy_names) \n",
    "        for i_n in insert_names])\n",
    "\n",
    "# Original version\n",
    "left_flex_ind = (3, 5)\n",
    "right_flex_ind = (6, 9)\n",
    "# Temporary version working out confusion.\n",
    "left_flex_ind = (4, 5)\n",
    "right_flex_ind = (6, 8)\n",
    "# Relpos for the dummy D gene\n",
    "right_relpos = 5\n",
    "emission_indices = [0, 1, 0, 2, 3, 0, 1, 1, 1, 3, 2, 3, 3]\n",
    "used_emission_indices = emission_indices[left_flex_ind[0]:right_flex_ind[1]]\n",
    "\n",
    "for o in [in_landing, T, E, out_landing, used_emission_indices]:\n",
    "    print o"
   ]
  },
  {
   "cell_type": "code",
   "execution_count": 4,
   "metadata": {
    "collapsed": false
   },
   "outputs": [],
   "source": [
    "# Following the image in the issue literally:\n",
    "all_A = []\n",
    "for t in range(len(used_emission_indices)):\n",
    "    y_t = used_emission_indices[t]\n",
    "    A = np.zeros((t+1, 4))\n",
    "    if t > 0:\n",
    "        A[:t, :] = all_A[t-1].dot(T) * E[y_t, :]\n",
    "    A[t, :] = in_landing * E[y_t, :]\n",
    "    all_A.append(A)"
   ]
  },
  {
   "cell_type": "markdown",
   "metadata": {},
   "source": [
    "However, we don't need all of the contents of the As.\n",
    "We only need to start at positions 3 and 4, which because of the setup of used_emission_indices are the first two entries\n",
    "(i.e. the left flex.)"
   ]
  },
  {
   "cell_type": "code",
   "execution_count": 5,
   "metadata": {
    "collapsed": false
   },
   "outputs": [
    {
     "data": {
      "text/plain": [
       "[array([[ 0.01 ,  0.02 ,  0.01 ,  0.035]]),\n",
       " array([[ 0.0039375,  0.0013125,  0.000375 ,  0.0001875],\n",
       "        [ 0.07     ,  0.02     ,  0.01     ,  0.005    ]]),\n",
       " array([[  4.35937500e-05,   7.12031250e-04,   2.90625000e-05,\n",
       "           1.45312500e-05],\n",
       "        [  7.87500000e-04,   1.28625000e-02,   5.25000000e-04,\n",
       "           2.62500000e-04]]),\n",
       " array([[  5.99414063e-06,   9.79042969e-05,   3.99609375e-06,\n",
       "           1.99804688e-06],\n",
       "        [  1.08281250e-04,   1.76859375e-03,   7.21875000e-05,\n",
       "           3.60937500e-05]])]"
      ]
     },
     "execution_count": 5,
     "metadata": {},
     "output_type": "execute_result"
    }
   ],
   "source": [
    "left_flex = left_flex_ind[1]-left_flex_ind[0]\n",
    "sub_A = [A[:(left_flex+1), :] for A in all_A]\n",
    "sub_A"
   ]
  },
  {
   "cell_type": "markdown",
   "metadata": {},
   "source": [
    "We want the matrix that has been run out to one position before the LHS of the right flex (but we subtract off `left_flex_ind[0]` because we're starting the computation at that position; see definition of `used_emission_indices`).\n",
    "We then right multiply by the column vector that corresponds to the entrypoint of the D gene. "
   ]
  },
  {
   "cell_type": "code",
   "execution_count": 6,
   "metadata": {
    "collapsed": false
   },
   "outputs": [
    {
     "name": "stdout",
     "output_type": "stream",
     "text": [
      "[ 0.00072656  0.013125  ]\n",
      "[  7.99218750e-05   1.44375000e-03]\n",
      "[ 0.  0.]\n"
     ]
    }
   ],
   "source": [
    "for i in range(0,right_flex_ind[1]-right_flex_ind[0]+1):\n",
    "    print sub_A[i+right_flex_ind[0]-left_flex_ind[0]-1].dot(out_landing[:,i+right_flex_ind[0]-right_relpos])"
   ]
  }
 ],
 "metadata": {
  "kernelspec": {
   "display_name": "Python [Root]",
   "language": "python",
   "name": "Python [Root]"
  },
  "language_info": {
   "codemirror_mode": {
    "name": "ipython",
    "version": 2
   },
   "file_extension": ".py",
   "mimetype": "text/x-python",
   "name": "python",
   "nbconvert_exporter": "python",
   "pygments_lexer": "ipython2",
   "version": "2.7.12"
  }
 },
 "nbformat": 4,
 "nbformat_minor": 0
}
