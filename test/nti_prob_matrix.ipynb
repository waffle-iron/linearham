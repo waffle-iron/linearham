{
 "cells": [
  {
   "cell_type": "code",
   "execution_count": null,
   "metadata": {
    "collapsed": false
   },
   "outputs": [],
   "source": [
    "import numpy as np\n",
    "import yaml\n",
    "\n",
    "with open(\"../data/D_germline_ex.yaml\", 'r') as stream:\n",
    "    try:\n",
    "        y = yaml.load(stream)\n",
    "    except yaml.YAMLError as exc:\n",
    "        print(exc)\n",
    "\n",
    "# Build a dictionary of the YAML keyed by state name.\n",
    "state_d = {}\n",
    "for s in y['states']:\n",
    "    state_d[s['name']] = s\n",
    "\n",
    "bases = list('ACGT')\n",
    "insert_names = ['insert_left_'+x for x in bases]\n",
    "dummy_names = ['dummy_D_'+str(i) for i in range(3)]"
   ]
  },
  {
   "cell_type": "code",
   "execution_count": null,
   "metadata": {
    "collapsed": true
   },
   "outputs": [],
   "source": [
    "def stack_rows(array_list):\n",
    "    return np.concatenate([np.array([a]) for a in array_list])\n",
    "\n",
    "def extract_normalized_transitions(d, names):\n",
    "    v = np.array([d[n] for n in names])\n",
    "    #v /= v.sum()\n",
    "    return v"
   ]
  },
  {
   "cell_type": "code",
   "execution_count": null,
   "metadata": {
    "collapsed": false
   },
   "outputs": [],
   "source": [
    "# NTI transition and emission matrices.\n",
    "\n",
    "in_landing = extract_normalized_transitions(state_d['init']['transitions'], insert_names)\n",
    "\n",
    "T = stack_rows([\n",
    "        extract_normalized_transitions(state_d[n]['transitions'], insert_names) \n",
    "        for n in insert_names])\n",
    "\n",
    "E = stack_rows([\n",
    "        np.array([state_d[n]['emissions']['probs'][b] for b in bases]) \n",
    "        for n in insert_names])\n",
    "\n",
    "out_landing = stack_rows([\n",
    "        extract_normalized_transitions(state_d[i_n]['transitions'], dummy_names) \n",
    "        for i_n in insert_names])\n",
    "\n",
    "emission_indices = [0, 1, 0, 2, 3, 0, 1, 1, 1, 3, 2, 3, 3]\n",
    "emission_indices = [2, 3, 0, 1, 1, 1]\n",
    "\n",
    "in_landing, T, E, out_landing"
   ]
  },
  {
   "cell_type": "code",
   "execution_count": null,
   "metadata": {
    "collapsed": false
   },
   "outputs": [],
   "source": [
    "all_A = []\n",
    "for t in range(len(emission_indices)):\n",
    "    y_t = emission_indices[t]\n",
    "    A = np.zeros((t+1, 4))\n",
    "    if t > 0:\n",
    "        A[:t, :] = all_A[t-1].dot(T) * E[y_t, :]\n",
    "    A[t, :] = in_landing * E[y_t, :]\n",
    "    all_A.append(A)"
   ]
  },
  {
   "cell_type": "code",
   "execution_count": null,
   "metadata": {
    "collapsed": false
   },
   "outputs": [],
   "source": [
    "all_A[-1].dot(out_landing)"
   ]
  },
  {
   "cell_type": "code",
   "execution_count": null,
   "metadata": {
    "collapsed": true
   },
   "outputs": [],
   "source": []
  }
 ],
 "metadata": {
  "kernelspec": {
   "display_name": "Python [Root]",
   "language": "python",
   "name": "Python [Root]"
  },
  "language_info": {
   "codemirror_mode": {
    "name": "ipython",
    "version": 2
   },
   "file_extension": ".py",
   "mimetype": "text/x-python",
   "name": "python",
   "nbconvert_exporter": "python",
   "pygments_lexer": "ipython2",
   "version": "2.7.12"
  }
 },
 "nbformat": 4,
 "nbformat_minor": 0
}
